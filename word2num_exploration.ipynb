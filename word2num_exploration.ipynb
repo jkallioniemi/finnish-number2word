{
 "cells": [
  {
   "cell_type": "code",
   "execution_count": 50,
   "metadata": {},
   "outputs": [],
   "source": [
    "import matplotlib\n",
    "import matplotlib.pyplot as plt\n",
    "%matplotlib inline\n",
    "import numpy as np"
   ]
  },
  {
   "cell_type": "code",
   "execution_count": 19,
   "metadata": {},
   "outputs": [],
   "source": [
    "FINNISH_NUM2WORDS = {\n",
    "    1: 'yksi',\n",
    "    2: 'kaksi',\n",
    "    3: 'kolme',\n",
    "    4: 'neljä',\n",
    "    5: 'viisi',\n",
    "    6: 'kuusi',\n",
    "    7: 'seitsemän',\n",
    "    8: 'kahdeksan',\n",
    "    9: 'yhdeksän',\n",
    "    10: 'kymmenen'\n",
    "}"
   ]
  },
  {
   "cell_type": "code",
   "execution_count": 20,
   "metadata": {},
   "outputs": [],
   "source": [
    "FINNISH_NUM2WORDS_SPOKEN = {\n",
    "    1: 'yks',\n",
    "    2: 'kaks',\n",
    "    3: 'kol',\n",
    "    4: 'nel',\n",
    "    5: 'viis',\n",
    "    6: 'kuus',\n",
    "    7: 'seittemän',\n",
    "    8: 'kasi',\n",
    "    9: 'ysi',\n",
    "    10: 'kymmene'\n",
    "}"
   ]
  },
  {
   "cell_type": "code",
   "execution_count": 21,
   "metadata": {},
   "outputs": [],
   "source": [
    "PLACE_WORDS = {\n",
    "    0: {'plural': '', 'singular': ''},\n",
    "    1: {'plural': 'tuhatta', 'singular': 'tuhat'},\n",
    "    2: {'plural': 'miljoonaa', 'singular': 'miljoona'},\n",
    "    3: {'plural': 'miljardia', 'singular': 'miljardi'},\n",
    "    4: {'plural': 'biljoonaa', 'singular': 'biljoona'},\n",
    "    5: {'plural': 'biljardia', 'singular': 'biljardi'},\n",
    "    6: {'plural': 'triljoonaa', 'singular': 'triljoona'},\n",
    "    7: {'plural': 'triljardia', 'singular': 'triljardi'},\n",
    "    8: {'plural': 'kvadriljoonaa', 'singular': 'kvadriljoona'},\n",
    "    9: {'plural': 'kvadriljardia', 'singular': 'kvadriljardi'},\n",
    "    10: {'plural': 'kvintiljoonaa', 'singular': 'kvintiljoona'},\n",
    "    11: {'plural': 'kvintiljardia', 'singular': 'kvintiljardi'},\n",
    "    12: {'plural': 'sekstiljoonaa', 'singular': 'sekstiljoona'},\n",
    "    13: {'plural': 'sekstiljardia', 'singular': 'sekstiljardi'},\n",
    "    14: {'plural': 'septiljoonaa', 'singular': 'septiljoona'},\n",
    "    15: {'plural': 'septiljardia', 'singular': 'septiljardi'},\n",
    "    16: {'plural': 'oktiljoonaa', 'singular': 'oktiljoona'},\n",
    "    17: {'plural': 'oktiljardia', 'singular': 'oktiljardi'},\n",
    "    18: {'plural': 'noviljoonaa', 'singular': 'noviljoona'},\n",
    "    19: {'plural': 'noviljardia', 'singular': 'noviljardi'},\n",
    "    20: {'plural': 'dekiljoonaa', 'singular': 'dekiljoona'},\n",
    "    21: {'plural': 'dekiljardia', 'singular': 'dekiljardi'},\n",
    "    22: {'plural': 'undekiljoonaa', 'singular': 'undekiljoona'},\n",
    "    23: {'plural': 'undekiljardia', 'singular': 'undekiljardi'},\n",
    "    24: {'plural': 'duodekiljoonaa', 'singular': 'duodekiljoona'},\n",
    "    25: {'plural': 'duodekiljardia', 'singular': 'duodekiljardi'},\n",
    "    26: {'plural': 'tredekiljoonaa', 'singular': 'tredekiljoona'},\n",
    "    27: {'plural': 'tredekiljardia', 'singular': 'tredekiljardi'},\n",
    "    28: {'plural': 'kvattuordekiljoonaa', 'singular': 'kvattuordekiljoona'},\n",
    "    29: {'plural': 'kvattuordekiljardia', 'singular': 'kvattuordekiljardi'},\n",
    "    30: {'plural': 'kvindekiljoonaa', 'singular': 'kvindekiljoona'},\n",
    "    31: {'plural': 'kvindekiljardia', 'singular': 'kvindekiljardi'},\n",
    "    32: {'plural': 'sedekiljoonaa', 'singular': 'sedekiljoona'},\n",
    "    33: {'plural': 'sedekiljardia', 'singular': 'sedekiljardi'},\n",
    "    34: {'plural': 'septendekiljoonaa', 'singular': 'septendekiljoona'},\n",
    "    35: {'plural': 'septendekiljardia', 'singular': 'septendekiljardi'},\n",
    "    36: {'plural': 'duodevigintiljoonaa', 'singular': 'duodevigintiljoona'},\n",
    "    37: {'plural': 'duodevigintiljardia', 'singular': 'duodevigintiljardi'}\n",
    "}"
   ]
  },
  {
   "cell_type": "code",
   "execution_count": 22,
   "metadata": {},
   "outputs": [],
   "source": [
    "def tens(number):\n",
    "    if number > 19:\n",
    "        return f'{FINNISH_NUM2WORDS[number//10]}kymmentä'\n",
    "    elif number > 10:\n",
    "        return f'{FINNISH_NUM2WORDS[number-10]}toista'\n",
    "    else:\n",
    "        return f'{FINNISH_NUM2WORDS[number]}'"
   ]
  },
  {
   "cell_type": "code",
   "execution_count": 42,
   "metadata": {},
   "outputs": [],
   "source": [
    "def tens_spoken(number):\n",
    "    if number > 69 and number < 80:\n",
    "        return f'{seiskyt}'\n",
    "    elif number > 19:\n",
    "        return f'{FINNISH_NUM2WORDS_SPOKEN[number//10]}kyt'\n",
    "    elif number == 13:\n",
    "        return f'kolmetoist'\n",
    "    elif number > 10:\n",
    "        return f'{FINNISH_NUM2WORDS_SPOKEN[number-10]}toist'\n",
    "    else:\n",
    "        return f'{FINNISH_NUM2WORDS_SPOKEN[number]}'"
   ]
  },
  {
   "cell_type": "code",
   "execution_count": 24,
   "metadata": {},
   "outputs": [],
   "source": [
    "def singles(number):\n",
    "    if number != 0:\n",
    "        return f'{FINNISH_NUM2WORDS[number]}'\n",
    "    return ''"
   ]
  },
  {
   "cell_type": "code",
   "execution_count": 25,
   "metadata": {},
   "outputs": [],
   "source": [
    "def singles_spoken(number):\n",
    "    if number != 0:\n",
    "        return f'{FINNISH_NUM2WORDS_SPOKEN[number]}'\n",
    "    return ''"
   ]
  },
  {
   "cell_type": "code",
   "execution_count": 26,
   "metadata": {},
   "outputs": [],
   "source": [
    "def hundreds(number):\n",
    "    if number > 1:\n",
    "        return f'{FINNISH_NUM2WORDS[number]}sataa'\n",
    "    else:\n",
    "        return 'sata'"
   ]
  },
  {
   "cell_type": "code",
   "execution_count": 27,
   "metadata": {},
   "outputs": [],
   "source": [
    "def hundreds_spoken(number):\n",
    "    if number > 1:\n",
    "        return f'{FINNISH_NUM2WORDS_SPOKEN[number]}sataa'\n",
    "    else:\n",
    "        return 'sata'"
   ]
  },
  {
   "cell_type": "code",
   "execution_count": 28,
   "metadata": {},
   "outputs": [],
   "source": [
    "def thousands(number):\n",
    "    if number > 1:\n",
    "        return f'{FINNISH_NUM2WORDS[number]}tuhatta'\n",
    "    else:\n",
    "        return 'tuhat'"
   ]
  },
  {
   "cell_type": "code",
   "execution_count": 38,
   "metadata": {},
   "outputs": [],
   "source": [
    "def thousands_spoken(number):\n",
    "    if number > 1:\n",
    "        return f'{FINNISH_NUM2WORDS_SPOKEN[number]}tuhat'\n",
    "    else:\n",
    "        return 'tuhat'"
   ]
  },
  {
   "cell_type": "code",
   "execution_count": 7,
   "metadata": {},
   "outputs": [],
   "source": [
    "def build_string(digits, place):\n",
    "    len_num = len(digits)\n",
    "    num_string = ''\n",
    "    is_between_10_and_19 = int(digits[-2:]) > 9 and int(digits[-2:]) < 20\n",
    "    is_divisible_by_10 = int(digits) % 10 == 0\n",
    "    is_place_gt_0_and_number_1 = int(digits) == 1 and place > 0\n",
    "    if not is_between_10_and_19 and not is_divisible_by_10 and not is_place_gt_0_and_number_1:\n",
    "        num_string = f'{singles(int(digits[-1]))}'\n",
    "    \n",
    "    if len_num >= 2 and int(digits[-2:]) > 9 and int(digits) % 100 != 0:\n",
    "        num_string = f'{tens(int(digits[-2:]))}{num_string}'\n",
    "        \n",
    "    if len_num >= 3 and int(digits) > 99:\n",
    "        num_string = f'{hundreds(int(digits[-3]))}{num_string}'\n",
    "    \n",
    "    if len_num >= 1 and int(digits) >= 1:\n",
    "        type = 'singular' if int(digits) == 1 else 'plural' \n",
    "        num_string = f'{num_string}{PLACE_WORDS[place][type]}'\n",
    "    return num_string"
   ]
  },
  {
   "cell_type": "code",
   "execution_count": 40,
   "metadata": {},
   "outputs": [],
   "source": [
    "def build_string_spoken(digits, place):\n",
    "    len_num = len(digits)\n",
    "    num_string = ''\n",
    "    is_between_10_and_19 = int(digits[-2:]) > 9 and int(digits[-2:]) < 20\n",
    "    is_divisible_by_10 = int(digits) % 10 == 0\n",
    "    is_place_gt_0_and_number_1 = int(digits) == 1 and place > 0\n",
    "    if not is_between_10_and_19 and not is_divisible_by_10 and not is_place_gt_0_and_number_1:\n",
    "        num_string = f'{singles_spoken(int(digits[-1]))}'\n",
    "    \n",
    "    if len_num >= 2 and int(digits[-2:]) > 9 and int(digits) % 100 != 0:\n",
    "        num_string = f'{tens_spoken(int(digits[-2:]))}{num_string}'\n",
    "        \n",
    "    if len_num >= 3 and int(digits) > 99:\n",
    "        num_string = f'{hundreds_spoken(int(digits[-3]))}{num_string}'\n",
    "    \n",
    "    if len_num >= 1 and int(digits) >= 1:\n",
    "        type = 'singular' if int(digits) == 1 or place == 1 else 'plural' \n",
    "        num_string = f'{num_string}{PLACE_WORDS[place][type]}'\n",
    "    return num_string"
   ]
  },
  {
   "cell_type": "code",
   "execution_count": 36,
   "metadata": {},
   "outputs": [],
   "source": [
    "def spell_number(num, spoken=False):\n",
    "    str_num = str(num)\n",
    "    len_num = len(str_num)\n",
    "    \n",
    "    offset = 1\n",
    "    splits = (len_num // 3) + 1\n",
    "    num_part = str_num[-3:len(str_num)]\n",
    "    \n",
    "    num_str = f''\n",
    "    while num_part:\n",
    "        if spoken:\n",
    "            num_str = f'{build_string_spoken(num_part, offset - 1)}{num_str}'\n",
    "        else:\n",
    "            num_str = f'{build_string(num_part, offset - 1)}{num_str}'\n",
    "        splits -= 1\n",
    "        offset += 1\n",
    "        num_part = str_num[-3*offset:-3*(offset-1)]\n",
    "    return num_str"
   ]
  },
  {
   "cell_type": "code",
   "execution_count": 92,
   "metadata": {},
   "outputs": [
    {
     "data": {
      "text/plain": [
       "'sataviisikymmentäkolmebiljoonaakolmesataakolmetoistamiljardiasataviisikymmentäseitsemänmiljoonaakolmesataakahdeksankymmentäyksituhattayhdeksänsataaviisikymmentäkahdeksan'"
      ]
     },
     "execution_count": 92,
     "metadata": {},
     "output_type": "execute_result"
    }
   ],
   "source": [
    "spell_number(153313157381958, spoken=False)"
   ]
  },
  {
   "cell_type": "code",
   "execution_count": 78,
   "metadata": {},
   "outputs": [],
   "source": [
    "def count_syllables(s):\n",
    "    s = s.casefold()\n",
    "    vowels = 'aeiouyäö'\n",
    "    syllable_count = 0\n",
    "    for idx, c in enumerate(s):\n",
    "        if c in vowels:\n",
    "            if idx > 0:\n",
    "                if s[idx-1] == 'o' and c == 'a':\n",
    "                    syllable_count += 1\n",
    "                elif s[idx-1] not in vowels:\n",
    "                    syllable_count += 1\n",
    "            else:\n",
    "                syllable_count += 1\n",
    "    return syllable_count"
   ]
  },
  {
   "cell_type": "code",
   "execution_count": 83,
   "metadata": {},
   "outputs": [
    {
     "data": {
      "text/plain": [
       "16"
      ]
     },
     "execution_count": 83,
     "metadata": {},
     "output_type": "execute_result"
    }
   ],
   "source": [
    "count_syllables(spell_number(1111111))"
   ]
  },
  {
   "cell_type": "code",
   "execution_count": 91,
   "metadata": {},
   "outputs": [
    {
     "data": {
      "text/plain": [
       "Text(0.5,1,'title')"
      ]
     },
     "execution_count": 91,
     "metadata": {},
     "output_type": "execute_result"
    },
    {
     "data": {
      "image/png": "[encoded data removed]",
      "text/plain": [
       "<Figure size 432x288 with 1 Axes>"
      ]
     },
     "metadata": {},
     "output_type": "display_data"
    }
   ],
   "source": [
    "x = [n for n in range(1,1000000+1)]\n",
    "y = [count_syllables(spell_number(n)) for n in x]\n",
    "\n",
    "fig = plt.figure()\n",
    "\n",
    "axes = fig.add_axes([0.1, 0.1, 2, 2])\n",
    "axes.plot(x, y, 'r')\n",
    "axes.set_xlabel('x')\n",
    "axes.set_ylabel('y = x ** 3')\n",
    "axes.set_title('title')"
   ]
  },
  {
   "cell_type": "code",
   "execution_count": 87,
   "metadata": {},
   "outputs": [
    {
     "data": {
      "text/plain": [
       "['_classic_test',\n",
       " 'seaborn-pastel',\n",
       " 'seaborn-paper',\n",
       " 'seaborn-whitegrid',\n",
       " 'dark_background',\n",
       " 'seaborn-notebook',\n",
       " 'seaborn-colorblind',\n",
       " 'seaborn-ticks',\n",
       " 'seaborn-talk',\n",
       " 'fast',\n",
       " 'seaborn',\n",
       " 'seaborn-muted',\n",
       " 'tableau-colorblind10',\n",
       " 'seaborn-dark-palette',\n",
       " 'seaborn-poster',\n",
       " 'seaborn-white',\n",
       " 'fivethirtyeight',\n",
       " 'seaborn-darkgrid',\n",
       " 'classic',\n",
       " 'seaborn-bright',\n",
       " 'bmh',\n",
       " 'Solarize_Light2',\n",
       " 'ggplot',\n",
       " 'seaborn-deep',\n",
       " 'grayscale',\n",
       " 'seaborn-dark']"
      ]
     },
     "execution_count": 87,
     "metadata": {},
     "output_type": "execute_result"
    }
   ],
   "source": [
    "plt.style.available"
   ]
  },
  {
   "cell_type": "code",
   "execution_count": 90,
   "metadata": {},
   "outputs": [],
   "source": [
    "plt.style.use('dark_background')"
   ]
  }
 ],
 "metadata": {
  "kernelspec": {
   "display_name": "Python 3",
   "language": "python",
   "name": "python3"
  },
  "language_info": {
   "codemirror_mode": {
    "name": "ipython",
    "version": 3
   },
   "file_extension": ".py",
   "mimetype": "text/x-python",
   "name": "python",
   "nbconvert_exporter": "python",
   "pygments_lexer": "ipython3",
   "version": "3.6.4"
  }
 },
 "nbformat": 4,
 "nbformat_minor": 2
}
